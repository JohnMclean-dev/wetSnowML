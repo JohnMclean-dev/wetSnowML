{
 "cells": [
  {
   "cell_type": "code",
   "execution_count": 2,
   "id": "fafade2c",
   "metadata": {},
   "outputs": [
    {
     "data": {
      "text/html": [
       "<p>To authorize access needed by Earth Engine, open the following\n",
       "        URL in a web browser and follow the instructions:</p>\n",
       "        <p><a href=https://code.earthengine.google.com/client-auth?scopes=https%3A//www.googleapis.com/auth/earthengine%20https%3A//www.googleapis.com/auth/devstorage.full_control&request_id=nGYiaJiAzUjSI_VEr970sGyxguOqXCHUa9bfwMvsFBU&tc=6Z2f71qfKrIFXg2_AGEjCp5iBQg3aiss9n4yKW69Tdw&cc=4Kf3hkg-duwOyGLNhGEh8boAn9WuVfzYg8Ov9huzeGE>https://code.earthengine.google.com/client-auth?scopes=https%3A//www.googleapis.com/auth/earthengine%20https%3A//www.googleapis.com/auth/devstorage.full_control&request_id=nGYiaJiAzUjSI_VEr970sGyxguOqXCHUa9bfwMvsFBU&tc=6Z2f71qfKrIFXg2_AGEjCp5iBQg3aiss9n4yKW69Tdw&cc=4Kf3hkg-duwOyGLNhGEh8boAn9WuVfzYg8Ov9huzeGE</a></p>\n",
       "        <p>The authorization workflow will generate a code, which you should paste in the box below.</p>\n",
       "        "
      ],
      "text/plain": [
       "<IPython.core.display.HTML object>"
      ]
     },
     "metadata": {},
     "output_type": "display_data"
    },
    {
     "name": "stdout",
     "output_type": "stream",
     "text": [
      "Enter verification code: 4/1AdQt8qizIpUcI0HAX1luaFYMMZXjVC3JBjB6V0n9N_nLaEEVmZRU5vEaJ4w\n",
      "\n",
      "Successfully saved authorization token.\n"
     ]
    }
   ],
   "source": [
    "import ee\n",
    "\n",
    "# connect to google account\n",
    "ee.Authenticate()\n",
    "ee.Initialize()"
   ]
  },
  {
   "cell_type": "code",
   "execution_count": null,
   "id": "f6115824",
   "metadata": {},
   "outputs": [],
   "source": [
    "# continue here"
   ]
  }
 ],
 "metadata": {
  "kernelspec": {
   "display_name": "Python 3",
   "language": "python",
   "name": "python3"
  },
  "language_info": {
   "codemirror_mode": {
    "name": "ipython",
    "version": 3
   },
   "file_extension": ".py",
   "mimetype": "text/x-python",
   "name": "python",
   "nbconvert_exporter": "python",
   "pygments_lexer": "ipython3",
   "version": "3.8.8"
  }
 },
 "nbformat": 4,
 "nbformat_minor": 5
}
